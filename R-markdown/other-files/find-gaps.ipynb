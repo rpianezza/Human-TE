{
 "cells": [
  {
   "cell_type": "code",
   "execution_count": 143,
   "id": "051e2375",
   "metadata": {},
   "outputs": [],
   "source": [
    "import pandas as pd"
   ]
  },
  {
   "cell_type": "code",
   "execution_count": 225,
   "id": "6bc2ce6d",
   "metadata": {
    "scrolled": false
   },
   "outputs": [],
   "source": [
    "# Here I read the file \"ordered\" as CSV. \n",
    "# The file can be found in ric-documentatio/other-files/ folder on GitHub.\n",
    "\n",
    "ordered = pd.read_csv('/Users/rpianezza/TE/ric-documentation-Rmd/ordered')"
   ]
  },
  {
   "cell_type": "code",
   "execution_count": 227,
   "id": "9b306c9a",
   "metadata": {
    "scrolled": false
   },
   "outputs": [],
   "source": [
    "subset=ordered\n",
    "maxgaps=[]\n",
    "Familyname=[]\n",
    "Sex=[]\n",
    "\n",
    "familyname='Null'\n",
    "sex='Null'\n",
    "finalgap=0\n",
    "maxgap=0\n",
    "\n",
    "for i in range(len(subset)):        # Iterate among all the rows\n",
    "    copynumber1 = subset.loc[i][9]  # The copynumber is the column 10\n",
    "    if i==len(subset)-1:\n",
    "        pass\n",
    "    else:\n",
    "        copynumber2 = subset.loc[i+1][9] # This is the copynumber of the next row\n",
    "    if subset.loc[i][3] == sex and subset.loc[i][6] == familyname: # If the sex and the familyname are the same as the previous row, ignore\n",
    "        pass\n",
    "    else:\n",
    "        finalgap=maxgap # If it's different, we found the max gap in the TE for this sex\n",
    "        if i!=0:\n",
    "            maxgaps.append(finalgap) # Append the found gap into a vector\n",
    "            Familyname.append(familyname) # Append the TE familyname to a vector\n",
    "            Sex.append(sex) # Append the sex to a vector\n",
    "        maxgap = 0 # Reset the max gap\n",
    "        finalgap = 0 # Reset the final gap\n",
    "        if subset.loc[i][3] != sex: # If the sex is different from the previous row, change it to the new one\n",
    "            sex = subset.loc[i][3]\n",
    "            #print('change sex: '+str(sex))\n",
    "        if subset.loc[i][6] != familyname: # If the famnilyname is different from the previous row, change it to the new one\n",
    "            familyname = subset.loc[i][6]\n",
    "            #print(\"\\n\"+'change family: '+str(familyname))      \n",
    "    if i==len(subset)-1:\n",
    "        pass\n",
    "    else:\n",
    "        familyname2 = subset.loc[i+1][6] # Control, if this is the last row for this familyname, ignore (there is nothing more to check)\n",
    "        if familyname==familyname2:\n",
    "            gap = copynumber2-copynumber1 # Calculate the gap\n",
    "            if gap>maxgap: # If the gap is bigger than the maxgap, the maxgap is updated\n",
    "                maxgap = gap\n",
    "           "
   ]
  },
  {
   "cell_type": "code",
   "execution_count": 228,
   "id": "49c71191",
   "metadata": {},
   "outputs": [
    {
     "name": "stdout",
     "output_type": "stream",
     "text": [
      "     familyname       maxgap     sex\n",
      "0       6kbHsap    38.292215  female\n",
      "1       6kbHsap    14.305408    male\n",
      "2         ALINE     0.010727  female\n",
      "3         ALINE     0.044981    male\n",
      "4           ALR  3634.410017  female\n",
      "...         ...          ...     ...\n",
      "1962    ZOMBI_A     2.899030  female\n",
      "1963    ZOMBI_A     0.926109    male\n",
      "1964    ZOMBI_B     4.128352  female\n",
      "1965    ZOMBI_B     3.655683    male\n",
      "1966    ZOMBI_C     0.068035  female\n",
      "\n",
      "[1967 rows x 3 columns]\n"
     ]
    }
   ],
   "source": [
    "gaps = pd.DataFrame({'familyname': Familyname,\n",
    "     'maxgap': maxgaps,\n",
    "     'sex': Sex\n",
    "    })\n",
    "print(gaps)"
   ]
  },
  {
   "cell_type": "code",
   "execution_count": 229,
   "id": "03a33a69",
   "metadata": {},
   "outputs": [],
   "source": [
    "gaps.to_csv('/Users/rpianezza/TE/ric-documentation-Rmd/gaps.csv', sep='\\t', index=False)"
   ]
  },
  {
   "cell_type": "code",
   "execution_count": null,
   "id": "188dc0a2",
   "metadata": {},
   "outputs": [],
   "source": []
  }
 ],
 "metadata": {
  "kernelspec": {
   "display_name": "Python 3 (ipykernel)",
   "language": "python",
   "name": "python3"
  },
  "language_info": {
   "codemirror_mode": {
    "name": "ipython",
    "version": 3
   },
   "file_extension": ".py",
   "mimetype": "text/x-python",
   "name": "python",
   "nbconvert_exporter": "python",
   "pygments_lexer": "ipython3",
   "version": "3.9.12"
  }
 },
 "nbformat": 4,
 "nbformat_minor": 5
}
